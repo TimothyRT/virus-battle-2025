{
 "cells": [
  {
   "cell_type": "code",
   "execution_count": 10,
   "id": "1e013e9f",
   "metadata": {},
   "outputs": [],
   "source": [
    "def rgb_to_vec3(rgb: str) -> tuple[float, float, float]:\n",
    "    # Remove the leading '#' if it exists\n",
    "    rgb = rgb.lstrip('#')\n",
    "    \n",
    "    # Convert the hex string to RGB values (as integers)\n",
    "    r = int(rgb[0:2], 16)\n",
    "    g = int(rgb[2:4], 16)\n",
    "    b = int(rgb[4:6], 16)\n",
    "    \n",
    "    # Normalize the RGB values to be in the range [0, 1]\n",
    "    return (round(r / 255.0, 3), round(g / 255.0, 3), round(b / 255.0, 3))\n"
   ]
  },
  {
   "cell_type": "code",
   "execution_count": 11,
   "id": "ce0e9afb",
   "metadata": {},
   "outputs": [
    {
     "data": {
      "text/plain": [
       "(0.059, 0.125, 0.224)"
      ]
     },
     "execution_count": 11,
     "metadata": {},
     "output_type": "execute_result"
    }
   ],
   "source": [
    "rgb_to_vec3(\n",
    "    '#0f2039'\n",
    ")"
   ]
  },
  {
   "cell_type": "markdown",
   "id": "4a1ad634",
   "metadata": {},
   "source": [
    "(0.125, 0.212, 0.345)"
   ]
  },
  {
   "cell_type": "markdown",
   "id": "e0f03d49",
   "metadata": {},
   "source": [
    "(0.043, 0.137, 0.286)"
   ]
  }
 ],
 "metadata": {
  "kernelspec": {
   "display_name": "Python 3",
   "language": "python",
   "name": "python3"
  },
  "language_info": {
   "codemirror_mode": {
    "name": "ipython",
    "version": 3
   },
   "file_extension": ".py",
   "mimetype": "text/x-python",
   "name": "python",
   "nbconvert_exporter": "python",
   "pygments_lexer": "ipython3",
   "version": "3.11.4"
  }
 },
 "nbformat": 4,
 "nbformat_minor": 5
}
