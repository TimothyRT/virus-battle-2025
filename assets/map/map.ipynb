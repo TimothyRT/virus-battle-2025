{
 "cells": [
  {
   "cell_type": "code",
   "execution_count": 29,
   "id": "7eacfe8d",
   "metadata": {},
   "outputs": [],
   "source": [
    "import subprocess"
   ]
  },
  {
   "cell_type": "code",
   "execution_count": 30,
   "id": "66e48974",
   "metadata": {},
   "outputs": [],
   "source": [
    "def render_map(inkscape_id: str, name: str):\n",
    "    command = [\n",
    "        'inkscape',\n",
    "        f'--export-filename=Map - {name}.png',\n",
    "        '--export-dpi=747.42',\n",
    "        '--export-type=png',\n",
    "        f'--export-id={inkscape_id}',\n",
    "        '--export-id-only',\n",
    "        '--export-area-page',\n",
    "        \"Map.svg\"\n",
    "    ]\n",
    "    result = subprocess.run(command, capture_output=True, text=True)\n",
    "    print(result.returncode)"
   ]
  },
  {
   "cell_type": "code",
   "execution_count": 31,
   "id": "e96dd9f6",
   "metadata": {},
   "outputs": [
    {
     "name": "stdout",
     "output_type": "stream",
     "text": [
      "0\n"
     ]
    }
   ],
   "source": [
    "render_map('f_top','F Top')"
   ]
  },
  {
   "cell_type": "code",
   "execution_count": 32,
   "id": "1f4dda80",
   "metadata": {},
   "outputs": [
    {
     "name": "stdout",
     "output_type": "stream",
     "text": [
      "0\n"
     ]
    }
   ],
   "source": [
    "render_map('o_top','O Top')"
   ]
  },
  {
   "cell_type": "code",
   "execution_count": 33,
   "id": "6cd83763",
   "metadata": {},
   "outputs": [
    {
     "name": "stdout",
     "output_type": "stream",
     "text": [
      "0\n"
     ]
    }
   ],
   "source": [
    "render_map('f_bottom','F Bottom')"
   ]
  },
  {
   "cell_type": "code",
   "execution_count": 34,
   "id": "fcb5eaab",
   "metadata": {},
   "outputs": [
    {
     "name": "stdout",
     "output_type": "stream",
     "text": [
      "0\n"
     ]
    }
   ],
   "source": [
    "render_map('jantung_f','Jantung F')"
   ]
  },
  {
   "cell_type": "code",
   "execution_count": 35,
   "id": "a6b8e27a",
   "metadata": {},
   "outputs": [
    {
     "name": "stdout",
     "output_type": "stream",
     "text": [
      "0\n"
     ]
    }
   ],
   "source": [
    "render_map('o_bottom','O Bottom')"
   ]
  }
 ],
 "metadata": {
  "kernelspec": {
   "display_name": "Python 3",
   "language": "python",
   "name": "python3"
  },
  "language_info": {
   "codemirror_mode": {
    "name": "ipython",
    "version": 3
   },
   "file_extension": ".py",
   "mimetype": "text/x-python",
   "name": "python",
   "nbconvert_exporter": "python",
   "pygments_lexer": "ipython3",
   "version": "3.11.4"
  }
 },
 "nbformat": 4,
 "nbformat_minor": 5
}
